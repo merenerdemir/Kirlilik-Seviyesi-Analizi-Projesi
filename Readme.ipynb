{
 "cells": [
  {
   "cell_type": "code",
   "execution_count": null,
   "id": "450da777-bb87-46e5-86ca-8c0d768ef59f",
   "metadata": {},
   "outputs": [],
   "source": [
    "# Kirlilik Seviyesi Analizi (Veri Temizleme ve Hazırlama)\n",
    "\n",
    "Bu proje, hava kirliliği veri setini kullanarak veri temizleme ve hazırlama süreçlerini gerçekleştirmek amacıyla oluşturulmuştur. Proje, Python ve Jupyter Notebook kullanarak veri üzerinde eksik verileri doldurma, aykırı değerleri temizleme, ve veriyi analiz için hazır hale getirme adımlarını içermektedir.\n",
    "\n",
    "## Proje İçeriği\n",
    "\n",
    "- `veri_temizleme.ipynb`: Bu dosya projedeki veri temizleme, dönüştürme ve görselleştirme adımlarını içerir.\n",
    "- `README.md`: Proje hakkında genel bilgi ve kurulum adımları.\n",
    "\n",
    "## Kullanılan Teknolojiler\n",
    "\n",
    "- **Python** (versiyon 3.x)\n",
    "- **Jupyter Notebook**\n",
    "- **Kütüphaneler**:\n",
    "  - `pandas`\n",
    "  - `numpy`\n",
    "  - `matplotlib`\n",
    "  - `seaborn`\n"
   ]
  }
 ],
 "metadata": {
  "kernelspec": {
   "display_name": "Python 3 (ipykernel)",
   "language": "python",
   "name": "python3"
  },
  "language_info": {
   "codemirror_mode": {
    "name": "ipython",
    "version": 3
   },
   "file_extension": ".py",
   "mimetype": "text/x-python",
   "name": "python",
   "nbconvert_exporter": "python",
   "pygments_lexer": "ipython3",
   "version": "3.12.4"
  }
 },
 "nbformat": 4,
 "nbformat_minor": 5
}
